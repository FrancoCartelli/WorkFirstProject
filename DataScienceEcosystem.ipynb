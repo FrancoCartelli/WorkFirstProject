{
 "cells": [
  {
   "cell_type": "markdown",
   "id": "fac58239-a46c-4536-990f-072559ba4359",
   "metadata": {},
   "source": [
    " # Data Science Tools and Ecosystem"
   ]
  },
  {
   "cell_type": "markdown",
   "id": "dc831c42-d16a-45cc-b423-60d2f5516fa8",
   "metadata": {},
   "source": [
    "## Author"
   ]
  },
  {
   "cell_type": "markdown",
   "id": "7a892143-e9b8-4a26-b900-7818de9da849",
   "metadata": {},
   "source": [
    "Franco Nicolas Cartelli Fernandez"
   ]
  },
  {
   "cell_type": "markdown",
   "id": "51a54f5e-affd-400b-acd0-3bf6e63a28bf",
   "metadata": {},
   "source": [
    "### **In this notebook we will see an introduction to data science tools and ecosystems**"
   ]
  },
  {
   "cell_type": "markdown",
   "id": "e946fb2b-9f04-4717-aa9a-734372187e9f",
   "metadata": {},
   "source": [
    "#### **objetives** :"
   ]
  },
  {
   "cell_type": "markdown",
   "id": "822b4b08-2b7a-4b70-b942-08f7e5f31b17",
   "metadata": {},
   "source": [
    "1. **Learn some of the most popular languages in data science**\n",
    "2. **Learn about some of the most used libraries in Python**\n",
    "3. **See some of the Tools of Data Scientist**\n",
    "4. **See some arithmetic Expresion in Jupyter Notebook**    "
   ]
  },
  {
   "cell_type": "markdown",
   "id": "59c4e763-c4b2-4ca6-9224-36b9fd75dba5",
   "metadata": {},
   "source": [
    "##### some of the popular languages that Data Scientists use are:\n",
    "\n",
    "1. First Python\n",
    "2. Second R\n",
    "3. Third SQL\n",
    "4. Fourth Apache Spark\n",
    "5. fifth Julia"
   ]
  },
  {
   "cell_type": "markdown",
   "id": "04d5c866-f47d-418f-b24b-cdfa88b05175",
   "metadata": {},
   "source": [
    "##### Some of the commonly used libraries used in Phython by Data Scientist include :\n",
    "\n",
    "1. First Pandas\n",
    "2. Second Matplotlib\n",
    "3. Third scikit learn\n",
    "4. Fourth Numpy"
   ]
  },
  {
   "cell_type": "markdown",
   "id": "c0435260-af91-468c-b615-c096bbf33011",
   "metadata": {},
   "source": [
    "|Data Science Tools|\n",
    "|----|\n",
    "|TensorFlow lite|\n",
    "|Apache Spark|\n",
    "|Kafka|\n"
   ]
  },
  {
   "cell_type": "markdown",
   "id": "d2d29be8-8821-4988-9b0c-19fa82516c31",
   "metadata": {},
   "source": [
    "### **Below are a few examples of evaluating arithmetic expressions in Python**"
   ]
  },
  {
   "cell_type": "markdown",
   "id": "f61ca3dd-16ba-4381-b9e4-684c7be0cbc5",
   "metadata": {},
   "source": [
    "##### This a simple arithmetic expression to mutiply then add integers :"
   ]
  },
  {
   "cell_type": "code",
   "execution_count": 6,
   "id": "f85e02df-0dee-4bbc-9512-7aef588b4cad",
   "metadata": {
    "scrolled": true
   },
   "outputs": [
    {
     "data": {
      "text/plain": [
       "17"
      ]
     },
     "execution_count": 6,
     "metadata": {},
     "output_type": "execute_result"
    }
   ],
   "source": [
    "(3*4)+5"
   ]
  },
  {
   "cell_type": "markdown",
   "id": "99a015d7-5493-4b4a-9d47-d8b7a11a7d96",
   "metadata": {},
   "source": [
    "##### This will convert 200 minutes to hours by diving by 60 :"
   ]
  },
  {
   "cell_type": "code",
   "execution_count": 5,
   "id": "3a7215f0-5b70-465e-8924-19ce028ab048",
   "metadata": {},
   "outputs": [
    {
     "data": {
      "text/plain": [
       "3.3333333333333335"
      ]
     },
     "execution_count": 5,
     "metadata": {},
     "output_type": "execute_result"
    }
   ],
   "source": [
    "200/60"
   ]
  }
 ],
 "metadata": {
  "kernelspec": {
   "display_name": "Python 3 (ipykernel)",
   "language": "python",
   "name": "python3"
  },
  "language_info": {
   "codemirror_mode": {
    "name": "ipython",
    "version": 3
   },
   "file_extension": ".py",
   "mimetype": "text/x-python",
   "name": "python",
   "nbconvert_exporter": "python",
   "pygments_lexer": "ipython3",
   "version": "3.12.7"
  }
 },
 "nbformat": 4,
 "nbformat_minor": 5
}
